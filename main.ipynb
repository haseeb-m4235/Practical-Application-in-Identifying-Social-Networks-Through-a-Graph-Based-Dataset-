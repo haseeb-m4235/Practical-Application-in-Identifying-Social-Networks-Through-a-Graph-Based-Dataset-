{
 "cells": [
  {
   "cell_type": "code",
   "execution_count": 1,
   "metadata": {},
   "outputs": [],
   "source": [
    "import numpy as np\n",
    "import networkx as nx\n",
    "import matplotlib.pyplot as plt\n",
    "from scipy.linalg import eigh\n",
    "\n",
    "#np.set_printoptions(threshold=np.inf)\n"
   ]
  },
  {
   "cell_type": "code",
   "execution_count": 46,
   "metadata": {},
   "outputs": [],
   "source": [
    "# Function to read edges from a file\n",
    "def read_edges_from_file(filename):\n",
    "    edges = []\n",
    "    with open(filename, 'r') as file:\n",
    "        for line in file:\n",
    "            nodes = line.strip().split()\n",
    "            edges.append((int(nodes[0]), int(nodes[1])))\n",
    "    return edges\n",
    "\n",
    "# Function to read features from a file\n",
    "def read_features_from_file(filename):\n",
    "    features = {}\n",
    "    with open(filename, 'r') as file:\n",
    "        for line in file:\n",
    "            parts = line.strip().split()\n",
    "            node = int(parts[0])  # First number is the node ID\n",
    "            feature_vector = np.array(list(map(int, parts[1:])))  # Rest are features\n",
    "            features[node] = feature_vector\n",
    "    return features\n",
    "\n",
    "# Gaussian kernel similarity\n",
    "def gaussian_similarity(x, y, sigma=1.0):\n",
    "    diff = x - y\n",
    "    distance = np.dot(diff, diff)  # Squared Euclidean distance\n",
    "    # return np.exp(-distance / (2 * sigma ** 2))\n",
    "    return np.exp(-sigma * distance)\n",
    "\n",
    "# Create weighted adjacency matrix with Gaussian kernel weights\n",
    "def create_weighted_adjacency_matrix(edges, features, node_mapping, sigma=1.0):\n",
    "    size = len(node_mapping)\n",
    "    A = np.zeros((size, size), dtype=float)\n",
    "    for u, v in edges:\n",
    "            u_idx, v_idx = node_mapping[u], node_mapping[v]\n",
    "            weight = gaussian_similarity(features[u], features[v], sigma)\n",
    "            A[u_idx, v_idx] = weight\n",
    "            A[v_idx, u_idx] = weight  # For undirected graph\n",
    "    return A\n",
    "\n",
    "# Create degree matrix based on the number of non-zero values in each row\n",
    "def create_degree_matrix(adjacency_matrix):\n",
    "    # degrees = np.count_nonzero(adjacency_matrix, axis=1)  # Count non-zero entries in each row\n",
    "    degrees = np.sum(adjacency_matrix, axis=1)  # Sum weights in each row\n",
    "    D = np.diag(degrees)  # Create diagonal degree matrix\n",
    "    return D\n",
    "\n",
    "# Create Laplacian matrix\n",
    "def create_laplacian_matrix(A, D):\n",
    "    return D - A\n",
    "\n",
    "# Compute eigenvalues and eigenvectors and sort them in increasing order based on eigen values\n",
    "def analyze_laplacian(L):\n",
    "    eigenvalues, eigenvectors = eigh(L)\n",
    "    sorted_indices = np.argsort(eigenvalues)\n",
    "    sorted_eigenvalues = eigenvalues[sorted_indices]\n",
    "    sorted_eigenvectors = eigenvectors[:, sorted_indices]\n",
    "    return sorted_eigenvalues[:100], sorted_eigenvectors"
   ]
  },
  {
   "cell_type": "code",
   "execution_count": 47,
   "metadata": {},
   "outputs": [],
   "source": [
    "import os\n",
    "# def addMainNode(current_working_directory, central_node, edges, features, unique_nodes):\n",
    "#     mainNodeFeaturesPath = os.path.join(current_working_directory, \"dataset\", f\"{central_node}.egofeat\")\n",
    "#     with open(mainNodeFeaturesPath, 'r') as file:\n",
    "#         for line in file:\n",
    "#             parts = line.strip().split()\n",
    "#             feature_vector = np.array(list(map(int, parts)))\n",
    "#             #print(feature_vector)\n",
    "#     features[central_node] = feature_vector\n",
    "#     for node in unique_nodes:\n",
    "#         edges.append((central_node, int(node)))\n",
    "#     unique_nodes.append(central_node)\n",
    "#     return edges, features, unique_nodes\n"
   ]
  },
  {
   "cell_type": "markdown",
   "metadata": {},
   "source": [
    "### Reading features and edges from the files"
   ]
  },
  {
   "cell_type": "code",
   "execution_count": 82,
   "metadata": {},
   "outputs": [],
   "source": [
    "# Main execution\n",
    "central_node = 0\n",
    "\n",
    "current_working_directory = os.getcwd()\n",
    "edges_path = os.path.join(current_working_directory, \"dataset\", f\"{central_node}.edges\")\n",
    "features_path = os.path.join(current_working_directory, \"dataset\", f\"{central_node}.feat\")\n",
    "\n",
    "# Read edges and features\n",
    "edges = read_edges_from_file(edges_path)\n",
    "features = read_features_from_file(features_path)\n",
    "\n",
    "# Map original node IDs to contiguous indices\n",
    "unique_nodes = list(features.keys())"
   ]
  },
  {
   "cell_type": "code",
   "execution_count": 83,
   "metadata": {},
   "outputs": [],
   "source": [
    "#edges, features, unique_nodes = addMainNode(current_working_directory, central_node, edges, features, unique_nodes)"
   ]
  },
  {
   "cell_type": "code",
   "execution_count": 84,
   "metadata": {},
   "outputs": [
    {
     "name": "stdout",
     "output_type": "stream",
     "text": [
      "Number of nodes: 347\n",
      "Number of features per node: 224\n"
     ]
    }
   ],
   "source": [
    "node_mapping = {node: idx for idx, node in enumerate(unique_nodes)}\n",
    "\n",
    "# Print information\n",
    "no_nodes = len(unique_nodes)\n",
    "print(f\"Number of nodes: {no_nodes}\")\n",
    "print(f\"Number of features per node: {len(next(iter(features.values())))}\")"
   ]
  },
  {
   "cell_type": "code",
   "execution_count": 85,
   "metadata": {},
   "outputs": [
    {
     "name": "stdout",
     "output_type": "stream",
     "text": [
      "{1: 0, 2: 1, 3: 2, 4: 3, 5: 4, 6: 5, 7: 6, 8: 7, 9: 8, 10: 9, 11: 10, 12: 11, 13: 12, 14: 13, 15: 14, 16: 15, 17: 16, 18: 17, 19: 18, 20: 19, 21: 20, 22: 21, 23: 22, 24: 23, 25: 24, 26: 25, 27: 26, 28: 27, 29: 28, 30: 29, 31: 30, 32: 31, 33: 32, 34: 33, 35: 34, 36: 35, 37: 36, 38: 37, 39: 38, 40: 39, 41: 40, 42: 41, 43: 42, 44: 43, 45: 44, 46: 45, 47: 46, 48: 47, 49: 48, 50: 49, 51: 50, 52: 51, 53: 52, 54: 53, 55: 54, 56: 55, 57: 56, 58: 57, 59: 58, 60: 59, 61: 60, 62: 61, 63: 62, 64: 63, 65: 64, 66: 65, 67: 66, 68: 67, 69: 68, 70: 69, 71: 70, 72: 71, 73: 72, 74: 73, 75: 74, 76: 75, 77: 76, 78: 77, 79: 78, 80: 79, 81: 80, 82: 81, 83: 82, 84: 83, 85: 84, 86: 85, 87: 86, 88: 87, 89: 88, 90: 89, 91: 90, 92: 91, 93: 92, 94: 93, 95: 94, 96: 95, 97: 96, 98: 97, 99: 98, 100: 99, 101: 100, 102: 101, 103: 102, 104: 103, 105: 104, 106: 105, 107: 106, 108: 107, 109: 108, 110: 109, 111: 110, 112: 111, 113: 112, 114: 113, 115: 114, 116: 115, 117: 116, 118: 117, 119: 118, 120: 119, 121: 120, 122: 121, 123: 122, 124: 123, 125: 124, 126: 125, 127: 126, 128: 127, 129: 128, 130: 129, 131: 130, 132: 131, 133: 132, 134: 133, 135: 134, 136: 135, 137: 136, 138: 137, 139: 138, 140: 139, 141: 140, 142: 141, 143: 142, 144: 143, 145: 144, 146: 145, 147: 146, 148: 147, 149: 148, 150: 149, 151: 150, 152: 151, 153: 152, 154: 153, 155: 154, 156: 155, 157: 156, 158: 157, 159: 158, 160: 159, 161: 160, 162: 161, 163: 162, 164: 163, 165: 164, 166: 165, 167: 166, 168: 167, 169: 168, 170: 169, 171: 170, 172: 171, 173: 172, 174: 173, 175: 174, 176: 175, 177: 176, 178: 177, 179: 178, 180: 179, 181: 180, 182: 181, 183: 182, 184: 183, 185: 184, 186: 185, 187: 186, 188: 187, 189: 188, 190: 189, 191: 190, 192: 191, 193: 192, 194: 193, 195: 194, 196: 195, 197: 196, 198: 197, 199: 198, 200: 199, 201: 200, 202: 201, 203: 202, 204: 203, 205: 204, 206: 205, 207: 206, 208: 207, 209: 208, 210: 209, 211: 210, 212: 211, 213: 212, 214: 213, 215: 214, 216: 215, 217: 216, 218: 217, 219: 218, 220: 219, 221: 220, 222: 221, 223: 222, 224: 223, 225: 224, 226: 225, 227: 226, 228: 227, 229: 228, 230: 229, 231: 230, 232: 231, 233: 232, 234: 233, 235: 234, 236: 235, 237: 236, 238: 237, 239: 238, 240: 239, 241: 240, 242: 241, 243: 242, 244: 243, 245: 244, 246: 245, 247: 246, 248: 247, 249: 248, 250: 249, 251: 250, 252: 251, 253: 252, 254: 253, 255: 254, 256: 255, 257: 256, 258: 257, 259: 258, 260: 259, 261: 260, 262: 261, 263: 262, 264: 263, 265: 264, 266: 265, 267: 266, 268: 267, 269: 268, 270: 269, 271: 270, 272: 271, 273: 272, 274: 273, 275: 274, 276: 275, 277: 276, 278: 277, 279: 278, 280: 279, 281: 280, 282: 281, 283: 282, 284: 283, 285: 284, 286: 285, 287: 286, 288: 287, 289: 288, 290: 289, 291: 290, 292: 291, 293: 292, 294: 293, 295: 294, 296: 295, 297: 296, 298: 297, 299: 298, 300: 299, 301: 300, 302: 301, 303: 302, 304: 303, 305: 304, 306: 305, 307: 306, 308: 307, 309: 308, 310: 309, 311: 310, 312: 311, 313: 312, 314: 313, 315: 314, 316: 315, 317: 316, 318: 317, 319: 318, 320: 319, 321: 320, 322: 321, 323: 322, 324: 323, 325: 324, 326: 325, 327: 326, 328: 327, 329: 328, 330: 329, 331: 330, 332: 331, 333: 332, 334: 333, 335: 334, 336: 335, 337: 336, 338: 337, 339: 338, 340: 339, 341: 340, 342: 341, 343: 342, 344: 343, 345: 344, 346: 345, 347: 346}\n"
     ]
    }
   ],
   "source": [
    "print(node_mapping)"
   ]
  },
  {
   "cell_type": "code",
   "execution_count": 86,
   "metadata": {},
   "outputs": [
    {
     "name": "stdout",
     "output_type": "stream",
     "text": [
      "First 5 edges: [(291, 339), (98, 332), (85, 75), (326, 20)]\n",
      "First 5 features of first node: [0 0 0 0 0]\n"
     ]
    }
   ],
   "source": [
    "print(f\"First 5 edges: {edges[:-5:-1]}\")\n",
    "print(f\"First 5 features of first node: {features[unique_nodes[0]][:5]}\")"
   ]
  },
  {
   "cell_type": "code",
   "execution_count": 87,
   "metadata": {},
   "outputs": [
    {
     "name": "stdout",
     "output_type": "stream",
     "text": [
      "Size of Laplacian matrix: 347 x 347\n",
      "Eigenvalues: [-9.18270083e-15 -2.42710492e-15 -1.71903166e-15 -4.44089210e-16\n",
      " -2.18402523e-16]\n",
      "Eigen shape 347 x 347\n"
     ]
    }
   ],
   "source": [
    "# Create weighted adjacency matrix\n",
    "A = create_weighted_adjacency_matrix(edges, features, node_mapping, sigma=.1)\n",
    "\n",
    "# Create degree and Laplacian matrices\n",
    "D = create_degree_matrix(A)\n",
    "L = create_laplacian_matrix(A, D)\n",
    "\n",
    "print(f\"Size of Laplacian matrix: {len(L)} x {len(L[0])}\")\n",
    "# Compute eigenvalues and eigenvectors\n",
    "eigenvalues, eigenvectors = analyze_laplacian(L)\n",
    "\n",
    "# Example output\n",
    "print(\"Eigenvalues:\", eigenvalues[:5])  # Print the first few eigenvalues\n",
    "print(f\"Eigen shape {len(eigenvectors)} x {len(eigenvectors[0])}\")"
   ]
  },
  {
   "cell_type": "code",
   "execution_count": 88,
   "metadata": {},
   "outputs": [
    {
     "name": "stdout",
     "output_type": "stream",
     "text": [
      "The matrix A is symmetric.\n"
     ]
    }
   ],
   "source": [
    "if np.array_equal(L, L.T):\n",
    "    print(\"The matrix A is symmetric.\")\n",
    "else:\n",
    "    print(\"The matrix A is not symmetric.\")"
   ]
  },
  {
   "cell_type": "code",
   "execution_count": 89,
   "metadata": {},
   "outputs": [
    {
     "name": "stdout",
     "output_type": "stream",
     "text": [
      "Largest Eigen Gap: 0.060964118313352356\n",
      "Index of Largest Gap: 63\n"
     ]
    },
    {
     "data": {
      "image/png": "[encoded data removed]",
      "text/plain": [
       "<Figure size 576x432 with 1 Axes>"
      ]
     },
     "metadata": {
      "needs_background": "light"
     },
     "output_type": "display_data"
    }
   ],
   "source": [
    "# Step 2: Compute the gaps between consecutive eigenvalues\n",
    "eigen_gaps = np.diff(eigenvalues)\n",
    "\n",
    "# Step 3: Find the largest eigen gap and its position\n",
    "largest_gap = np.max(eigen_gaps)\n",
    "gap_index = np.argmax(eigen_gaps)\n",
    "\n",
    "#print(\"Eigen Gaps:\", eigen_gaps)\n",
    "print(\"Largest Eigen Gap:\", largest_gap)\n",
    "print(\"Index of Largest Gap:\", gap_index)\n",
    "\n",
    "# Plot the eigenvalues and the gaps\n",
    "plt.figure(figsize=(8, 6))\n",
    "\n",
    "# Plot eigenvalues as points\n",
    "plt.plot(eigenvalues, 'o-', label=\"Eigenvalues\", markersize=8)\n",
    "\n",
    "# Annotate gaps\n",
    "for i in range(len(eigen_gaps)):\n",
    "    x_pos = i + 0.5  # Position between two eigenvalues\n",
    "    y_pos = (eigenvalues[i] + eigenvalues[i + 1]) / 2  # Midpoint for the text\n",
    "    if eigen_gaps[i] == largest_gap:\n",
    "        plt.annotate(f\"{eigen_gaps[i]:.2f}\", xy=(x_pos, y_pos), xytext=(x_pos, y_pos + 0.1), ha=\"center\", color=\"red\")\n",
    "\n",
    "# Enhance plot\n",
    "plt.title(\"Eigenvalues and Gaps\")\n",
    "plt.xlabel(\"Index\")\n",
    "plt.ylabel(\"Value\")\n",
    "plt.grid(True, linestyle=\"--\", alpha=0.6)\n",
    "plt.legend()\n",
    "plt.show()"
   ]
  },
  {
   "cell_type": "code",
   "execution_count": 90,
   "metadata": {},
   "outputs": [],
   "source": [
    "# Select the eigenvectors corresponding to the smallest k eigenvalues\n",
    "k = gap_index\n",
    "selected_eigenvectors = eigenvectors[:, :k]"
   ]
  },
  {
   "cell_type": "code",
   "execution_count": 91,
   "metadata": {},
   "outputs": [
    {
     "name": "stdout",
     "output_type": "stream",
     "text": [
      "shape of selected Eigen vectors 347 x 63\n"
     ]
    }
   ],
   "source": [
    "print(f\"shape of selected Eigen vectors {len(selected_eigenvectors)} x {len(selected_eigenvectors[0])}\")"
   ]
  },
  {
   "cell_type": "code",
   "execution_count": 92,
   "metadata": {},
   "outputs": [],
   "source": [
    "from sklearn.cluster import KMeans\n",
    "\n",
    "# Perform k-means clustering\n",
    "kmeans = KMeans(n_clusters=k)\n",
    "kmeans.fit(selected_eigenvectors)\n",
    "labels = kmeans.labels_"
   ]
  },
  {
   "cell_type": "code",
   "execution_count": 93,
   "metadata": {},
   "outputs": [
    {
     "name": "stdout",
     "output_type": "stream",
     "text": [
      "[ 0  8  0  6  0  3  0 10  0  0 21 17  0  8 24  0  8 25  8  8  0  0  0 60\n",
      "  0  0  0  8  0  0  0  8  5 29 51 60 11  0  0  0  8  5  7  8  0 13 39 60\n",
      " 43  0  0 49 60  0  0  0 60 57  0  0  0  0 37 41  0  0  0 13  0 45 20  0\n",
      " 60  2  0 30  0  6  0 60 53  0  0  0  0 13  0  0  3 14 10 60  8 60  3  0\n",
      " 58  0 13 41 60 13  0  0  0  0 57  0  0 10  8 28  0 26  8  8  0  0  0 48\n",
      "  0  0  0 56  0  0 60  0  0  0 13  0  0  0 60  0  8 36 60  8  0  0 13  8\n",
      " 14  0  3  0  8 41  8 23  0 61 56  0 56  0  0 44  0  8 41 60  0 47  8  0\n",
      "  0  0 41  0 47 28 13  0 13  0 14 60  6 58 35  0  0  0 60  0 41  0 60  0\n",
      " 10 60  6 60  0 34  0  0 10 47  0 60 59 31 33  0 15 19  0  0  0  8 12  8\n",
      " 41  6  3  8  0  0  0  0 13  8 13 42  0  0  0  0  9 32  0  0  0  0  0 52\n",
      " 62 60  8  4 10  0  1  0 60  0  0  0 58 60 43  9  0  0 10  0  0  8 13 10\n",
      "  0 60 55  0 53 30  0  0  6  0  6  0  0 13 54  0  0  4 40  0  0 27 18  0\n",
      "  8  0  0 16 28  0  0 13  0  0 60 60 39 60  0  0  8  6 50  0 60  8  0  8\n",
      "  0  0  0 38 60  0  3 60 13  0  0  0  0  8  3  6  0 60  0  0  8  0 22 46\n",
      "  8  0  0  0  0  0  8  0  0 60  0]\n"
     ]
    }
   ],
   "source": [
    "print(labels)"
   ]
  },
  {
   "cell_type": "code",
   "execution_count": null,
   "metadata": {},
   "outputs": [],
   "source": [
    "def visulaizeWithCentralNode():\n",
    "    # Map the nodes from unique_nodes to their corresponding cluster labels\n",
    "    node_colors = [labels[node_mapping[node]] for node in unique_nodes]\n",
    "\n",
    "    # Create the graph\n",
    "    G = nx.Graph()\n",
    "\n",
    "    # Add edges to the graph\n",
    "    G.add_edges_from(edges)\n",
    "\n",
    "    # Add isolated nodes to the graph (those with no edges)\n",
    "    isolated_nodes = set(unique_nodes) - set(G.nodes)\n",
    "    G.add_nodes_from(isolated_nodes)\n",
    "\n",
    "    # # Add a central node and connect it to all other nodes\n",
    "    central_node = str(central_node)\n",
    "    G.add_node(central_node)\n",
    "\n",
    "    # Assign a default cluster label to the central node (e.g., choose a random label)\n",
    "    default_label =  0 # Or use another strategy for default assignment\n",
    "\n",
    "    # Ensure the graph nodes and node_colors are aligned\n",
    "    # node_colors = [labels[node_mapping[node]] for node in G.nodes]\n",
    "    node_colors = [labels[node_mapping[node]] for node in G.nodes if node != central_node]\n",
    "    node_colors.append(default_label)  # Assign the central node a default label\n",
    "\n",
    "    # # Add edges from central node to all other nodes\n",
    "    for node in unique_nodes:\n",
    "        G.add_edge(central_node, node)\n",
    "\n",
    "    # Visualization\n",
    "    plt.figure(figsize=(10, 8))\n",
    "    pos = nx.spring_layout(G, seed=42)\n",
    "\n",
    "    # Adjust node size to make the central node bigger\n",
    "    node_size = [500 if node == central_node else 100 for node in G.nodes]\n",
    "\n",
    "    # Draw the graph with node colors based on the clusters\n",
    "    nx.draw(G, pos, with_labels=True, node_color=node_colors, cmap=plt.cm.get_cmap(\"tab10\", k), \n",
    "            node_size=node_size, font_size=10, font_weight='bold')\n",
    "\n",
    "    plt.title(\"Graph Visualization with K-Means Clustering and Central Node\")\n",
    "    plt.show()"
   ]
  },
  {
   "cell_type": "code",
   "execution_count": 104,
   "metadata": {},
   "outputs": [
    {
     "data": {
      "image/png": "[encoded data removed]",
      "text/plain": [
       "<Figure size 720x576 with 1 Axes>"
      ]
     },
     "metadata": {},
     "output_type": "display_data"
    }
   ],
   "source": [
    "import matplotlib.pyplot as plt\n",
    "import networkx as nx\n",
    "from sklearn.cluster import KMeans\n",
    "\n",
    "# Create the graph\n",
    "G = nx.Graph()\n",
    "\n",
    "# Add edges to the graph\n",
    "G.add_edges_from(edges)\n",
    "\n",
    "# Add isolated nodes to the graph (those with no edges)\n",
    "isolated_nodes = set(unique_nodes) - set(G.nodes)\n",
    "G.add_nodes_from(isolated_nodes)\n",
    "\n",
    "node_colors = [labels[node_mapping[node]] for node in G.nodes]\n",
    "\n",
    "# Visualization\n",
    "plt.figure(figsize=(10, 8))\n",
    "pos = nx.spring_layout(G, seed=42)\n",
    "\n",
    "# Adjust node size to make the central node bigger\n",
    "node_size = [100 for node in G.nodes]\n",
    "\n",
    "# Draw the graph with node colors based on the clusters\n",
    "nx.draw(G, pos, with_labels=False, node_color=node_colors, cmap=plt.cm.get_cmap(\"tab10\", k), \n",
    "        node_size=node_size, font_size=10, font_weight='bold')\n",
    "\n",
    "plt.title(\"Graph Visualization with K-Means Clustering\")\n",
    "plt.show()\n",
    "\n"
   ]
  },
  {
   "cell_type": "code",
   "execution_count": 106,
   "metadata": {},
   "outputs": [
    {
     "data": {
      "text/plain": [
       "{'silhouette_score': -0.3791467044411227,\n",
       " 'nmi': 0.2365831807481612,\n",
       " 'ari': -0.007986897710783291,\n",
       " 'modularity': 0.4014451660039516}"
      ]
     },
     "execution_count": 106,
     "metadata": {},
     "output_type": "execute_result"
    }
   ],
   "source": [
    "import numpy as np\n",
    "from sklearn.metrics import silhouette_score, normalized_mutual_info_score, adjusted_rand_score\n",
    "from collections import defaultdict\n",
    "\n",
    "def load_ground_truth(file_path):\n",
    "    \"\"\"Load ground truth circles from nodeId.circles file.\"\"\"\n",
    "    ground_truth = {}\n",
    "    with open(file_path, 'r') as f:\n",
    "        for line in f:\n",
    "            parts = line.strip().split(\"\\t\")\n",
    "            circle_name = parts[0][6:]\n",
    "            circle_members = list(map(int, parts[1:]))\n",
    "            ground_truth[circle_name] = circle_members\n",
    "    return ground_truth\n",
    "\n",
    "def evaluate_clustering(graph, labels, ground_truth):\n",
    "    \"\"\"Evaluate clustering using multiple metrics.\"\"\"\n",
    "    node_mapping = {node: idx for idx, node in enumerate(graph.nodes())}\n",
    "    num_nodes = len(node_mapping)\n",
    "\n",
    "    ground_truth_labels = -1 * np.ones(num_nodes, dtype=int)\n",
    "    for circle_id, members in enumerate(ground_truth.values()):\n",
    "        for member in members:\n",
    "            if member in node_mapping:  # Map member to its index\n",
    "                ground_truth_labels[node_mapping[member]] = circle_id\n",
    "\n",
    "\n",
    "    if len(set(labels)) > 1:\n",
    "        silhouette = silhouette_score(nx.to_numpy_array(graph), labels)\n",
    "    else:\n",
    "        silhouette = float(\"nan\")\n",
    "\n",
    "    valid_indices = ground_truth_labels != -1  # Exclude nodes not in ground truth\n",
    "    nmi = normalized_mutual_info_score(ground_truth_labels[valid_indices], labels[valid_indices])\n",
    "    ari = adjusted_rand_score(ground_truth_labels[valid_indices], labels[valid_indices])\n",
    "\n",
    "    modularity_ = nx.algorithms.community.modularity(graph, nx.algorithms.community.label_propagation_communities(graph))\n",
    "    modularity_ = modularity_ if not np.isnan(modularity_) else 0\n",
    "\n",
    "    return {\n",
    "        \"silhouette_score\": silhouette,\n",
    "        \"nmi\": nmi,\n",
    "        \"ari\": ari,\n",
    "        \"modularity\": modularity_\n",
    "    }\n",
    "\n",
    "ground_truth_path = os.path.join(current_working_directory, \"dataset\", f\"{central_node}.circles\")\n",
    "ground_truth = load_ground_truth(ground_truth_path)\n",
    "evaluate_clustering(G, labels, ground_truth)\n",
    "\n"
   ]
  }
 ],
 "metadata": {
  "kernelspec": {
   "display_name": "AI3",
   "language": "python",
   "name": "python3"
  },
  "language_info": {
   "codemirror_mode": {
    "name": "ipython",
    "version": 3
   },
   "file_extension": ".py",
   "mimetype": "text/x-python",
   "name": "python",
   "nbconvert_exporter": "python",
   "pygments_lexer": "ipython3",
   "version": "3.6.13"
  }
 },
 "nbformat": 4,
 "nbformat_minor": 2
}
